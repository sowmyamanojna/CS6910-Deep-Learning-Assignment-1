{
 "cells": [
  {
   "cell_type": "code",
   "execution_count": 1,
   "metadata": {},
   "outputs": [],
   "source": [
    "import wandb\n",
    "import numpy as np\n",
    "import os\n",
    "from activations import Sigmoid, Tanh, Relu, Softmax\n",
    "from layers import Input, Dense\n",
    "from optimizers import Momentum, Nesterov, AdaGrad, RMSProp, Adam, Nadam\n",
    "from network import NeuralNetwork\n",
    "from loss import CrossEntropy\n",
    "from helper import OneHotEncoder, MinMaxScaler\n",
    "\n",
    "from sklearn.model_selection import train_test_split\n",
    "\n",
    "from keras.datasets import fashion_mnist\n",
    "import matplotlib.pyplot as plt"
   ]
  },
  {
   "cell_type": "markdown",
   "metadata": {},
   "source": [
    "# Loss on Training Data"
   ]
  },
  {
   "cell_type": "code",
   "execution_count": 4,
   "metadata": {},
   "outputs": [],
   "source": [
    "# Preparing small dataset to test the code\n",
    "[(X_train, y_train), (X_test, y_test)] = fashion_mnist.load_data()\n",
    "scaler = MinMaxScaler()\n",
    "X_scaled = scaler.fit_transform(X_train)\n",
    "X_scaled = X_scaled.reshape(X_scaled.shape[0], X_scaled.shape[1]*X_scaled.shape[2]).T\n",
    "\n",
    "encoder = OneHotEncoder()\n",
    "t = encoder.fit_transform(y_train, 10)"
   ]
  },
  {
   "cell_type": "code",
   "execution_count": 5,
   "metadata": {},
   "outputs": [
    {
     "name": "stdout",
     "output_type": "stream",
     "text": [
      "{'name': 'random-test-sweep', 'method': 'grid', 'metric': {'name': 'loss', 'goal': 'minimize'}, 'parameters': {'num_epochs': {'values': [5]}, 'size_hidden_layer': {'values': [32, 64, 128]}, 'optimizer': {'values': ['Adam']}, 'batch_size': {'values': [60000]}, 'weight_init': {'values': ['RandomNormal', 'XavierUniform']}}}\n"
     ]
    }
   ],
   "source": [
    "sweep_config = {'name': 'random-test-sweep', 'method': 'grid'}\n",
    "sweep_config['metric'] = {'name': 'loss', 'goal': 'minimize'}\n",
    "parameters_dict = {\n",
    "                   'num_epochs': {'values': [5]}, \\\n",
    "                   #'num_hidden_layers': {'values': [3, 4, 5]}, \\\n",
    "                   'size_hidden_layer': {'values': [32, 64, 128]}, \\\n",
    "                   #'learning_rate': {'values': [1e-3, 1e-4]}, \\\n",
    "                   'optimizer': {'values': [\"Adam\"]}, \\\n",
    "                   'batch_size': {'values': [60000]}, \\\n",
    "                   'weight_init': {'values': ['RandomNormal', 'XavierUniform']} , \\\n",
    "                   #'activation': {'values': {'sigmoid', 'tanh'}}, \\\n",
    "                  }\n",
    "sweep_config['parameters'] = parameters_dict\n",
    "print(sweep_config)"
   ]
  },
  {
   "cell_type": "code",
   "execution_count": 6,
   "metadata": {},
   "outputs": [],
   "source": [
    "def train_nn(config = sweep_config):\n",
    "    with wandb.init(config = config):\n",
    "        config = wandb.init().config\n",
    "        wandb.run.name = 'epochs_{}layersize_{}opt_{}batch_{}init_{}'.format(config.num_epochs, config.size_hidden_layer, \\\n",
    "                          config.optimizer, config.batch_size, config.weight_init)\n",
    "        layers = [Input(data = X_scaled), Dense(size = config.size_hidden_layer, activation = \"Sigmoid\", name = \"HL1\"), \\\n",
    "                  Dense(size = 10, activation = \"Sigmoid\", name = \"OL\")]\n",
    "        nn_model = NeuralNetwork(layers = layers, batch_size = config.batch_size, optimizer = config.optimizer, \\\n",
    "                                 intialization = config.weight_init, epochs = config.num_epochs, t = t)\n",
    "        nn_model.forward_propogation()\n",
    "        nn_model.backward_propogation()\n",
    "        \n",
    "        for step_loss in nn_model.loss_hist:\n",
    "            wandb.log({'loss': step_loss})"
   ]
  },
  {
   "cell_type": "code",
   "execution_count": 7,
   "metadata": {},
   "outputs": [
    {
     "name": "stdout",
     "output_type": "stream",
     "text": [
      "Create sweep with ID: lt452qcu\n",
      "Sweep URL: https://wandb.ai/shubham_kashyapi/Train-NN-13/sweeps/lt452qcu\n"
     ]
    }
   ],
   "source": [
    "sweep_id = wandb.sweep(sweep_config, project = 'Train-NN-13')"
   ]
  },
  {
   "cell_type": "code",
   "execution_count": 8,
   "metadata": {},
   "outputs": [
    {
     "name": "stderr",
     "output_type": "stream",
     "text": [
      "wandb: Agent Starting Run: epg3woit with config:\n",
      "wandb: \tbatch_size: 60000\n",
      "wandb: \tnum_epochs: 5\n",
      "wandb: \toptimizer: Adam\n",
      "wandb: \tsize_hidden_layer: 32\n",
      "wandb: \tweight_init: RandomNormal\n",
      "wandb: Currently logged in as: shubham_kashyapi (use `wandb login --relogin` to force relogin)\n"
     ]
    },
    {
     "data": {
      "text/html": [
       "\n",
       "                Tracking run with wandb version 0.10.22<br/>\n",
       "                Syncing run <strong style=\"color:#cdcd00\">royal-sweep-1</strong> to <a href=\"https://wandb.ai\" target=\"_blank\">Weights & Biases</a> <a href=\"https://docs.wandb.com/integrations/jupyter.html\" target=\"_blank\">(Documentation)</a>.<br/>\n",
       "                Project page: <a href=\"https://wandb.ai/shubham_kashyapi/Train-NN-13\" target=\"_blank\">https://wandb.ai/shubham_kashyapi/Train-NN-13</a><br/>\n",
       "                Sweep page: <a href=\"https://wandb.ai/shubham_kashyapi/Train-NN-13/sweeps/lt452qcu\" target=\"_blank\">https://wandb.ai/shubham_kashyapi/Train-NN-13/sweeps/lt452qcu</a><br/>\n",
       "Run page: <a href=\"https://wandb.ai/shubham_kashyapi/Train-NN-13/runs/epg3woit\" target=\"_blank\">https://wandb.ai/shubham_kashyapi/Train-NN-13/runs/epg3woit</a><br/>\n",
       "                Run data is saved locally in <code>C:\\Users\\Admin\\OneDrive\\Desktop\\DL Assignment 1\\CS6910-Deep-Learning-Assignment-1-main\\wandb\\run-20210314_200849-epg3woit</code><br/><br/>\n",
       "            "
      ],
      "text/plain": [
       "<IPython.core.display.HTML object>"
      ]
     },
     "metadata": {},
     "output_type": "display_data"
    },
    {
     "data": {
      "text/html": [
       "Finishing last run (ID:epg3woit) before initializing another..."
      ],
      "text/plain": [
       "<IPython.core.display.HTML object>"
      ]
     },
     "metadata": {},
     "output_type": "display_data"
    },
    {
     "data": {
      "text/html": [
       "<br/>Waiting for W&B process to finish, PID 6336<br/>Program ended successfully."
      ],
      "text/plain": [
       "<IPython.core.display.HTML object>"
      ]
     },
     "metadata": {},
     "output_type": "display_data"
    },
    {
     "data": {
      "application/vnd.jupyter.widget-view+json": {
       "model_id": "",
       "version_major": 2,
       "version_minor": 0
      },
      "text/plain": [
       "VBox(children=(Label(value=' 0.00MB of 0.00MB uploaded (0.00MB deduped)\\r'), FloatProgress(value=1.0, max=1.0)…"
      ]
     },
     "metadata": {},
     "output_type": "display_data"
    },
    {
     "data": {
      "text/html": [
       "Find user logs for this run at: <code>C:\\Users\\Admin\\OneDrive\\Desktop\\DL Assignment 1\\CS6910-Deep-Learning-Assignment-1-main\\wandb\\run-20210314_200849-epg3woit\\logs\\debug.log</code>"
      ],
      "text/plain": [
       "<IPython.core.display.HTML object>"
      ]
     },
     "metadata": {},
     "output_type": "display_data"
    },
    {
     "data": {
      "text/html": [
       "Find internal logs for this run at: <code>C:\\Users\\Admin\\OneDrive\\Desktop\\DL Assignment 1\\CS6910-Deep-Learning-Assignment-1-main\\wandb\\run-20210314_200849-epg3woit\\logs\\debug-internal.log</code>"
      ],
      "text/plain": [
       "<IPython.core.display.HTML object>"
      ]
     },
     "metadata": {},
     "output_type": "display_data"
    },
    {
     "data": {
      "text/html": [
       "Synced 4 W&B file(s), 0 media file(s), 0 artifact file(s) and 0 other file(s)"
      ],
      "text/plain": [
       "<IPython.core.display.HTML object>"
      ]
     },
     "metadata": {},
     "output_type": "display_data"
    },
    {
     "data": {
      "text/html": [
       "\n",
       "                    <br/>Synced <strong style=\"color:#cdcd00\">royal-sweep-1</strong>: <a href=\"https://wandb.ai/shubham_kashyapi/Train-NN-13/runs/epg3woit\" target=\"_blank\">https://wandb.ai/shubham_kashyapi/Train-NN-13/runs/epg3woit</a><br/>\n",
       "                "
      ],
      "text/plain": [
       "<IPython.core.display.HTML object>"
      ]
     },
     "metadata": {},
     "output_type": "display_data"
    },
    {
     "data": {
      "text/html": [
       "...Successfully finished last run (ID:epg3woit). Initializing new run:<br/><br/>"
      ],
      "text/plain": [
       "<IPython.core.display.HTML object>"
      ]
     },
     "metadata": {},
     "output_type": "display_data"
    },
    {
     "data": {
      "text/html": [
       "\n",
       "                Tracking run with wandb version 0.10.22<br/>\n",
       "                Syncing run <strong style=\"color:#cdcd00\">royal-sweep-1</strong> to <a href=\"https://wandb.ai\" target=\"_blank\">Weights & Biases</a> <a href=\"https://docs.wandb.com/integrations/jupyter.html\" target=\"_blank\">(Documentation)</a>.<br/>\n",
       "                Project page: <a href=\"https://wandb.ai/shubham_kashyapi/Train-NN-13\" target=\"_blank\">https://wandb.ai/shubham_kashyapi/Train-NN-13</a><br/>\n",
       "                Sweep page: <a href=\"https://wandb.ai/shubham_kashyapi/Train-NN-13/sweeps/lt452qcu\" target=\"_blank\">https://wandb.ai/shubham_kashyapi/Train-NN-13/sweeps/lt452qcu</a><br/>\n",
       "Run page: <a href=\"https://wandb.ai/shubham_kashyapi/Train-NN-13/runs/epg3woit\" target=\"_blank\">https://wandb.ai/shubham_kashyapi/Train-NN-13/runs/epg3woit</a><br/>\n",
       "                Run data is saved locally in <code>C:\\Users\\Admin\\OneDrive\\Desktop\\DL Assignment 1\\CS6910-Deep-Learning-Assignment-1-main\\wandb\\run-20210314_200854-epg3woit</code><br/><br/>\n",
       "            "
      ],
      "text/plain": [
       "<IPython.core.display.HTML object>"
      ]
     },
     "metadata": {},
     "output_type": "display_data"
    },
    {
     "name": "stderr",
     "output_type": "stream",
     "text": [
      "wandb: ERROR Run epg3woit errored: AttributeError(\"'Dense' object has no attribute 'W'\")\n"
     ]
    },
    {
     "name": "stdout",
     "output_type": "stream",
     "text": [
      "(784, 60000)\n"
     ]
    },
    {
     "name": "stderr",
     "output_type": "stream",
     "text": [
      "wandb: Agent Starting Run: 9b470oew with config:\n",
      "wandb: \tbatch_size: 60000\n",
      "wandb: \tnum_epochs: 5\n",
      "wandb: \toptimizer: Adam\n",
      "wandb: \tsize_hidden_layer: 32\n",
      "wandb: \tweight_init: XavierUniform\n"
     ]
    },
    {
     "data": {
      "text/html": [
       "\n",
       "                Tracking run with wandb version 0.10.22<br/>\n",
       "                Syncing run <strong style=\"color:#cdcd00\">rose-sweep-2</strong> to <a href=\"https://wandb.ai\" target=\"_blank\">Weights & Biases</a> <a href=\"https://docs.wandb.com/integrations/jupyter.html\" target=\"_blank\">(Documentation)</a>.<br/>\n",
       "                Project page: <a href=\"https://wandb.ai/shubham_kashyapi/Train-NN-13\" target=\"_blank\">https://wandb.ai/shubham_kashyapi/Train-NN-13</a><br/>\n",
       "                Sweep page: <a href=\"https://wandb.ai/shubham_kashyapi/Train-NN-13/sweeps/lt452qcu\" target=\"_blank\">https://wandb.ai/shubham_kashyapi/Train-NN-13/sweeps/lt452qcu</a><br/>\n",
       "Run page: <a href=\"https://wandb.ai/shubham_kashyapi/Train-NN-13/runs/9b470oew\" target=\"_blank\">https://wandb.ai/shubham_kashyapi/Train-NN-13/runs/9b470oew</a><br/>\n",
       "                Run data is saved locally in <code>C:\\Users\\Admin\\OneDrive\\Desktop\\DL Assignment 1\\CS6910-Deep-Learning-Assignment-1-main\\wandb\\run-20210314_200907-9b470oew</code><br/><br/>\n",
       "            "
      ],
      "text/plain": [
       "<IPython.core.display.HTML object>"
      ]
     },
     "metadata": {},
     "output_type": "display_data"
    },
    {
     "data": {
      "text/html": [
       "Finishing last run (ID:9b470oew) before initializing another..."
      ],
      "text/plain": [
       "<IPython.core.display.HTML object>"
      ]
     },
     "metadata": {},
     "output_type": "display_data"
    },
    {
     "data": {
      "text/html": [
       "<br/>Waiting for W&B process to finish, PID 15892<br/>Program ended successfully."
      ],
      "text/plain": [
       "<IPython.core.display.HTML object>"
      ]
     },
     "metadata": {},
     "output_type": "display_data"
    },
    {
     "data": {
      "application/vnd.jupyter.widget-view+json": {
       "model_id": "",
       "version_major": 2,
       "version_minor": 0
      },
      "text/plain": [
       "VBox(children=(Label(value=' 0.00MB of 0.00MB uploaded (0.00MB deduped)\\r'), FloatProgress(value=1.0, max=1.0)…"
      ]
     },
     "metadata": {},
     "output_type": "display_data"
    },
    {
     "data": {
      "text/html": [
       "Find user logs for this run at: <code>C:\\Users\\Admin\\OneDrive\\Desktop\\DL Assignment 1\\CS6910-Deep-Learning-Assignment-1-main\\wandb\\run-20210314_200907-9b470oew\\logs\\debug.log</code>"
      ],
      "text/plain": [
       "<IPython.core.display.HTML object>"
      ]
     },
     "metadata": {},
     "output_type": "display_data"
    },
    {
     "data": {
      "text/html": [
       "Find internal logs for this run at: <code>C:\\Users\\Admin\\OneDrive\\Desktop\\DL Assignment 1\\CS6910-Deep-Learning-Assignment-1-main\\wandb\\run-20210314_200907-9b470oew\\logs\\debug-internal.log</code>"
      ],
      "text/plain": [
       "<IPython.core.display.HTML object>"
      ]
     },
     "metadata": {},
     "output_type": "display_data"
    },
    {
     "data": {
      "text/html": [
       "Synced 4 W&B file(s), 0 media file(s), 0 artifact file(s) and 0 other file(s)"
      ],
      "text/plain": [
       "<IPython.core.display.HTML object>"
      ]
     },
     "metadata": {},
     "output_type": "display_data"
    },
    {
     "data": {
      "text/html": [
       "\n",
       "                    <br/>Synced <strong style=\"color:#cdcd00\">rose-sweep-2</strong>: <a href=\"https://wandb.ai/shubham_kashyapi/Train-NN-13/runs/9b470oew\" target=\"_blank\">https://wandb.ai/shubham_kashyapi/Train-NN-13/runs/9b470oew</a><br/>\n",
       "                "
      ],
      "text/plain": [
       "<IPython.core.display.HTML object>"
      ]
     },
     "metadata": {},
     "output_type": "display_data"
    },
    {
     "data": {
      "text/html": [
       "...Successfully finished last run (ID:9b470oew). Initializing new run:<br/><br/>"
      ],
      "text/plain": [
       "<IPython.core.display.HTML object>"
      ]
     },
     "metadata": {},
     "output_type": "display_data"
    },
    {
     "data": {
      "text/html": [
       "\n",
       "                Tracking run with wandb version 0.10.22<br/>\n",
       "                Syncing run <strong style=\"color:#cdcd00\">rose-sweep-2</strong> to <a href=\"https://wandb.ai\" target=\"_blank\">Weights & Biases</a> <a href=\"https://docs.wandb.com/integrations/jupyter.html\" target=\"_blank\">(Documentation)</a>.<br/>\n",
       "                Project page: <a href=\"https://wandb.ai/shubham_kashyapi/Train-NN-13\" target=\"_blank\">https://wandb.ai/shubham_kashyapi/Train-NN-13</a><br/>\n",
       "                Sweep page: <a href=\"https://wandb.ai/shubham_kashyapi/Train-NN-13/sweeps/lt452qcu\" target=\"_blank\">https://wandb.ai/shubham_kashyapi/Train-NN-13/sweeps/lt452qcu</a><br/>\n",
       "Run page: <a href=\"https://wandb.ai/shubham_kashyapi/Train-NN-13/runs/9b470oew\" target=\"_blank\">https://wandb.ai/shubham_kashyapi/Train-NN-13/runs/9b470oew</a><br/>\n",
       "                Run data is saved locally in <code>C:\\Users\\Admin\\OneDrive\\Desktop\\DL Assignment 1\\CS6910-Deep-Learning-Assignment-1-main\\wandb\\run-20210314_200912-9b470oew</code><br/><br/>\n",
       "            "
      ],
      "text/plain": [
       "<IPython.core.display.HTML object>"
      ]
     },
     "metadata": {},
     "output_type": "display_data"
    },
    {
     "name": "stdout",
     "output_type": "stream",
     "text": [
      "(784, 60000)\n"
     ]
    },
    {
     "name": "stderr",
     "output_type": "stream",
     "text": [
      "100%|██████████| 5/5 [00:01<00:00,  2.86it/s]\n",
      "wandb: Agent Starting Run: qrup3o4g with config:\n",
      "wandb: \tbatch_size: 60000\n",
      "wandb: \tnum_epochs: 5\n",
      "wandb: \toptimizer: Adam\n",
      "wandb: \tsize_hidden_layer: 64\n",
      "wandb: \tweight_init: RandomNormal\n"
     ]
    },
    {
     "data": {
      "text/html": [
       "\n",
       "                Tracking run with wandb version 0.10.22<br/>\n",
       "                Syncing run <strong style=\"color:#cdcd00\">scarlet-sweep-3</strong> to <a href=\"https://wandb.ai\" target=\"_blank\">Weights & Biases</a> <a href=\"https://docs.wandb.com/integrations/jupyter.html\" target=\"_blank\">(Documentation)</a>.<br/>\n",
       "                Project page: <a href=\"https://wandb.ai/shubham_kashyapi/Train-NN-13\" target=\"_blank\">https://wandb.ai/shubham_kashyapi/Train-NN-13</a><br/>\n",
       "                Sweep page: <a href=\"https://wandb.ai/shubham_kashyapi/Train-NN-13/sweeps/lt452qcu\" target=\"_blank\">https://wandb.ai/shubham_kashyapi/Train-NN-13/sweeps/lt452qcu</a><br/>\n",
       "Run page: <a href=\"https://wandb.ai/shubham_kashyapi/Train-NN-13/runs/qrup3o4g\" target=\"_blank\">https://wandb.ai/shubham_kashyapi/Train-NN-13/runs/qrup3o4g</a><br/>\n",
       "                Run data is saved locally in <code>C:\\Users\\Admin\\OneDrive\\Desktop\\DL Assignment 1\\CS6910-Deep-Learning-Assignment-1-main\\wandb\\run-20210314_200925-qrup3o4g</code><br/><br/>\n",
       "            "
      ],
      "text/plain": [
       "<IPython.core.display.HTML object>"
      ]
     },
     "metadata": {},
     "output_type": "display_data"
    },
    {
     "data": {
      "text/html": [
       "Finishing last run (ID:qrup3o4g) before initializing another..."
      ],
      "text/plain": [
       "<IPython.core.display.HTML object>"
      ]
     },
     "metadata": {},
     "output_type": "display_data"
    },
    {
     "data": {
      "text/html": [
       "<br/>Waiting for W&B process to finish, PID 12832<br/>Program ended successfully."
      ],
      "text/plain": [
       "<IPython.core.display.HTML object>"
      ]
     },
     "metadata": {},
     "output_type": "display_data"
    },
    {
     "data": {
      "application/vnd.jupyter.widget-view+json": {
       "model_id": "",
       "version_major": 2,
       "version_minor": 0
      },
      "text/plain": [
       "VBox(children=(Label(value=' 0.00MB of 0.00MB uploaded (0.00MB deduped)\\r'), FloatProgress(value=1.0, max=1.0)…"
      ]
     },
     "metadata": {},
     "output_type": "display_data"
    },
    {
     "data": {
      "text/html": [
       "Find user logs for this run at: <code>C:\\Users\\Admin\\OneDrive\\Desktop\\DL Assignment 1\\CS6910-Deep-Learning-Assignment-1-main\\wandb\\run-20210314_200925-qrup3o4g\\logs\\debug.log</code>"
      ],
      "text/plain": [
       "<IPython.core.display.HTML object>"
      ]
     },
     "metadata": {},
     "output_type": "display_data"
    },
    {
     "data": {
      "text/html": [
       "Find internal logs for this run at: <code>C:\\Users\\Admin\\OneDrive\\Desktop\\DL Assignment 1\\CS6910-Deep-Learning-Assignment-1-main\\wandb\\run-20210314_200925-qrup3o4g\\logs\\debug-internal.log</code>"
      ],
      "text/plain": [
       "<IPython.core.display.HTML object>"
      ]
     },
     "metadata": {},
     "output_type": "display_data"
    },
    {
     "data": {
      "text/html": [
       "Synced 4 W&B file(s), 0 media file(s), 0 artifact file(s) and 0 other file(s)"
      ],
      "text/plain": [
       "<IPython.core.display.HTML object>"
      ]
     },
     "metadata": {},
     "output_type": "display_data"
    },
    {
     "data": {
      "text/html": [
       "\n",
       "                    <br/>Synced <strong style=\"color:#cdcd00\">scarlet-sweep-3</strong>: <a href=\"https://wandb.ai/shubham_kashyapi/Train-NN-13/runs/qrup3o4g\" target=\"_blank\">https://wandb.ai/shubham_kashyapi/Train-NN-13/runs/qrup3o4g</a><br/>\n",
       "                "
      ],
      "text/plain": [
       "<IPython.core.display.HTML object>"
      ]
     },
     "metadata": {},
     "output_type": "display_data"
    },
    {
     "data": {
      "text/html": [
       "...Successfully finished last run (ID:qrup3o4g). Initializing new run:<br/><br/>"
      ],
      "text/plain": [
       "<IPython.core.display.HTML object>"
      ]
     },
     "metadata": {},
     "output_type": "display_data"
    },
    {
     "data": {
      "text/html": [
       "\n",
       "                Tracking run with wandb version 0.10.22<br/>\n",
       "                Syncing run <strong style=\"color:#cdcd00\">scarlet-sweep-3</strong> to <a href=\"https://wandb.ai\" target=\"_blank\">Weights & Biases</a> <a href=\"https://docs.wandb.com/integrations/jupyter.html\" target=\"_blank\">(Documentation)</a>.<br/>\n",
       "                Project page: <a href=\"https://wandb.ai/shubham_kashyapi/Train-NN-13\" target=\"_blank\">https://wandb.ai/shubham_kashyapi/Train-NN-13</a><br/>\n",
       "                Sweep page: <a href=\"https://wandb.ai/shubham_kashyapi/Train-NN-13/sweeps/lt452qcu\" target=\"_blank\">https://wandb.ai/shubham_kashyapi/Train-NN-13/sweeps/lt452qcu</a><br/>\n",
       "Run page: <a href=\"https://wandb.ai/shubham_kashyapi/Train-NN-13/runs/qrup3o4g\" target=\"_blank\">https://wandb.ai/shubham_kashyapi/Train-NN-13/runs/qrup3o4g</a><br/>\n",
       "                Run data is saved locally in <code>C:\\Users\\Admin\\OneDrive\\Desktop\\DL Assignment 1\\CS6910-Deep-Learning-Assignment-1-main\\wandb\\run-20210314_200930-qrup3o4g</code><br/><br/>\n",
       "            "
      ],
      "text/plain": [
       "<IPython.core.display.HTML object>"
      ]
     },
     "metadata": {},
     "output_type": "display_data"
    },
    {
     "name": "stderr",
     "output_type": "stream",
     "text": [
      "wandb: ERROR Run qrup3o4g errored: AttributeError(\"'Dense' object has no attribute 'W'\")\n"
     ]
    },
    {
     "name": "stdout",
     "output_type": "stream",
     "text": [
      "(784, 60000)\n"
     ]
    },
    {
     "name": "stderr",
     "output_type": "stream",
     "text": [
      "wandb: Agent Starting Run: nkkl36xn with config:\n",
      "wandb: \tbatch_size: 60000\n",
      "wandb: \tnum_epochs: 5\n",
      "wandb: \toptimizer: Adam\n",
      "wandb: \tsize_hidden_layer: 64\n",
      "wandb: \tweight_init: XavierUniform\n"
     ]
    },
    {
     "data": {
      "text/html": [
       "\n",
       "                Tracking run with wandb version 0.10.22<br/>\n",
       "                Syncing run <strong style=\"color:#cdcd00\">helpful-sweep-4</strong> to <a href=\"https://wandb.ai\" target=\"_blank\">Weights & Biases</a> <a href=\"https://docs.wandb.com/integrations/jupyter.html\" target=\"_blank\">(Documentation)</a>.<br/>\n",
       "                Project page: <a href=\"https://wandb.ai/shubham_kashyapi/Train-NN-13\" target=\"_blank\">https://wandb.ai/shubham_kashyapi/Train-NN-13</a><br/>\n",
       "                Sweep page: <a href=\"https://wandb.ai/shubham_kashyapi/Train-NN-13/sweeps/lt452qcu\" target=\"_blank\">https://wandb.ai/shubham_kashyapi/Train-NN-13/sweeps/lt452qcu</a><br/>\n",
       "Run page: <a href=\"https://wandb.ai/shubham_kashyapi/Train-NN-13/runs/nkkl36xn\" target=\"_blank\">https://wandb.ai/shubham_kashyapi/Train-NN-13/runs/nkkl36xn</a><br/>\n",
       "                Run data is saved locally in <code>C:\\Users\\Admin\\OneDrive\\Desktop\\DL Assignment 1\\CS6910-Deep-Learning-Assignment-1-main\\wandb\\run-20210314_200940-nkkl36xn</code><br/><br/>\n",
       "            "
      ],
      "text/plain": [
       "<IPython.core.display.HTML object>"
      ]
     },
     "metadata": {},
     "output_type": "display_data"
    },
    {
     "data": {
      "text/html": [
       "Finishing last run (ID:nkkl36xn) before initializing another..."
      ],
      "text/plain": [
       "<IPython.core.display.HTML object>"
      ]
     },
     "metadata": {},
     "output_type": "display_data"
    },
    {
     "data": {
      "text/html": [
       "<br/>Waiting for W&B process to finish, PID 6808<br/>Program ended successfully."
      ],
      "text/plain": [
       "<IPython.core.display.HTML object>"
      ]
     },
     "metadata": {},
     "output_type": "display_data"
    },
    {
     "data": {
      "application/vnd.jupyter.widget-view+json": {
       "model_id": "",
       "version_major": 2,
       "version_minor": 0
      },
      "text/plain": [
       "VBox(children=(Label(value=' 0.00MB of 0.00MB uploaded (0.00MB deduped)\\r'), FloatProgress(value=1.0, max=1.0)…"
      ]
     },
     "metadata": {},
     "output_type": "display_data"
    },
    {
     "data": {
      "text/html": [
       "Find user logs for this run at: <code>C:\\Users\\Admin\\OneDrive\\Desktop\\DL Assignment 1\\CS6910-Deep-Learning-Assignment-1-main\\wandb\\run-20210314_200940-nkkl36xn\\logs\\debug.log</code>"
      ],
      "text/plain": [
       "<IPython.core.display.HTML object>"
      ]
     },
     "metadata": {},
     "output_type": "display_data"
    },
    {
     "data": {
      "text/html": [
       "Find internal logs for this run at: <code>C:\\Users\\Admin\\OneDrive\\Desktop\\DL Assignment 1\\CS6910-Deep-Learning-Assignment-1-main\\wandb\\run-20210314_200940-nkkl36xn\\logs\\debug-internal.log</code>"
      ],
      "text/plain": [
       "<IPython.core.display.HTML object>"
      ]
     },
     "metadata": {},
     "output_type": "display_data"
    },
    {
     "data": {
      "text/html": [
       "Synced 4 W&B file(s), 0 media file(s), 0 artifact file(s) and 0 other file(s)"
      ],
      "text/plain": [
       "<IPython.core.display.HTML object>"
      ]
     },
     "metadata": {},
     "output_type": "display_data"
    },
    {
     "data": {
      "text/html": [
       "\n",
       "                    <br/>Synced <strong style=\"color:#cdcd00\">helpful-sweep-4</strong>: <a href=\"https://wandb.ai/shubham_kashyapi/Train-NN-13/runs/nkkl36xn\" target=\"_blank\">https://wandb.ai/shubham_kashyapi/Train-NN-13/runs/nkkl36xn</a><br/>\n",
       "                "
      ],
      "text/plain": [
       "<IPython.core.display.HTML object>"
      ]
     },
     "metadata": {},
     "output_type": "display_data"
    },
    {
     "data": {
      "text/html": [
       "...Successfully finished last run (ID:nkkl36xn). Initializing new run:<br/><br/>"
      ],
      "text/plain": [
       "<IPython.core.display.HTML object>"
      ]
     },
     "metadata": {},
     "output_type": "display_data"
    },
    {
     "data": {
      "text/html": [
       "\n",
       "                Tracking run with wandb version 0.10.22<br/>\n",
       "                Syncing run <strong style=\"color:#cdcd00\">helpful-sweep-4</strong> to <a href=\"https://wandb.ai\" target=\"_blank\">Weights & Biases</a> <a href=\"https://docs.wandb.com/integrations/jupyter.html\" target=\"_blank\">(Documentation)</a>.<br/>\n",
       "                Project page: <a href=\"https://wandb.ai/shubham_kashyapi/Train-NN-13\" target=\"_blank\">https://wandb.ai/shubham_kashyapi/Train-NN-13</a><br/>\n",
       "                Sweep page: <a href=\"https://wandb.ai/shubham_kashyapi/Train-NN-13/sweeps/lt452qcu\" target=\"_blank\">https://wandb.ai/shubham_kashyapi/Train-NN-13/sweeps/lt452qcu</a><br/>\n",
       "Run page: <a href=\"https://wandb.ai/shubham_kashyapi/Train-NN-13/runs/nkkl36xn\" target=\"_blank\">https://wandb.ai/shubham_kashyapi/Train-NN-13/runs/nkkl36xn</a><br/>\n",
       "                Run data is saved locally in <code>C:\\Users\\Admin\\OneDrive\\Desktop\\DL Assignment 1\\CS6910-Deep-Learning-Assignment-1-main\\wandb\\run-20210314_200945-nkkl36xn</code><br/><br/>\n",
       "            "
      ],
      "text/plain": [
       "<IPython.core.display.HTML object>"
      ]
     },
     "metadata": {},
     "output_type": "display_data"
    },
    {
     "name": "stdout",
     "output_type": "stream",
     "text": [
      "(784, 60000)\n"
     ]
    },
    {
     "name": "stderr",
     "output_type": "stream",
     "text": [
      "100%|██████████| 5/5 [00:02<00:00,  1.68it/s]\n",
      "wandb: Agent Starting Run: 29rk2nhb with config:\n",
      "wandb: \tbatch_size: 60000\n",
      "wandb: \tnum_epochs: 5\n",
      "wandb: \toptimizer: Adam\n",
      "wandb: \tsize_hidden_layer: 128\n",
      "wandb: \tweight_init: RandomNormal\n"
     ]
    },
    {
     "data": {
      "text/html": [
       "\n",
       "                Tracking run with wandb version 0.10.22<br/>\n",
       "                Syncing run <strong style=\"color:#cdcd00\">earnest-sweep-5</strong> to <a href=\"https://wandb.ai\" target=\"_blank\">Weights & Biases</a> <a href=\"https://docs.wandb.com/integrations/jupyter.html\" target=\"_blank\">(Documentation)</a>.<br/>\n",
       "                Project page: <a href=\"https://wandb.ai/shubham_kashyapi/Train-NN-13\" target=\"_blank\">https://wandb.ai/shubham_kashyapi/Train-NN-13</a><br/>\n",
       "                Sweep page: <a href=\"https://wandb.ai/shubham_kashyapi/Train-NN-13/sweeps/lt452qcu\" target=\"_blank\">https://wandb.ai/shubham_kashyapi/Train-NN-13/sweeps/lt452qcu</a><br/>\n",
       "Run page: <a href=\"https://wandb.ai/shubham_kashyapi/Train-NN-13/runs/29rk2nhb\" target=\"_blank\">https://wandb.ai/shubham_kashyapi/Train-NN-13/runs/29rk2nhb</a><br/>\n",
       "                Run data is saved locally in <code>C:\\Users\\Admin\\OneDrive\\Desktop\\DL Assignment 1\\CS6910-Deep-Learning-Assignment-1-main\\wandb\\run-20210314_201002-29rk2nhb</code><br/><br/>\n",
       "            "
      ],
      "text/plain": [
       "<IPython.core.display.HTML object>"
      ]
     },
     "metadata": {},
     "output_type": "display_data"
    },
    {
     "data": {
      "text/html": [
       "Finishing last run (ID:29rk2nhb) before initializing another..."
      ],
      "text/plain": [
       "<IPython.core.display.HTML object>"
      ]
     },
     "metadata": {},
     "output_type": "display_data"
    },
    {
     "data": {
      "text/html": [
       "<br/>Waiting for W&B process to finish, PID 13800<br/>Program ended successfully."
      ],
      "text/plain": [
       "<IPython.core.display.HTML object>"
      ]
     },
     "metadata": {},
     "output_type": "display_data"
    },
    {
     "data": {
      "application/vnd.jupyter.widget-view+json": {
       "model_id": "",
       "version_major": 2,
       "version_minor": 0
      },
      "text/plain": [
       "VBox(children=(Label(value=' 0.00MB of 0.00MB uploaded (0.00MB deduped)\\r'), FloatProgress(value=1.0, max=1.0)…"
      ]
     },
     "metadata": {},
     "output_type": "display_data"
    },
    {
     "data": {
      "text/html": [
       "Find user logs for this run at: <code>C:\\Users\\Admin\\OneDrive\\Desktop\\DL Assignment 1\\CS6910-Deep-Learning-Assignment-1-main\\wandb\\run-20210314_201002-29rk2nhb\\logs\\debug.log</code>"
      ],
      "text/plain": [
       "<IPython.core.display.HTML object>"
      ]
     },
     "metadata": {},
     "output_type": "display_data"
    },
    {
     "data": {
      "text/html": [
       "Find internal logs for this run at: <code>C:\\Users\\Admin\\OneDrive\\Desktop\\DL Assignment 1\\CS6910-Deep-Learning-Assignment-1-main\\wandb\\run-20210314_201002-29rk2nhb\\logs\\debug-internal.log</code>"
      ],
      "text/plain": [
       "<IPython.core.display.HTML object>"
      ]
     },
     "metadata": {},
     "output_type": "display_data"
    },
    {
     "data": {
      "text/html": [
       "Synced 4 W&B file(s), 0 media file(s), 0 artifact file(s) and 0 other file(s)"
      ],
      "text/plain": [
       "<IPython.core.display.HTML object>"
      ]
     },
     "metadata": {},
     "output_type": "display_data"
    },
    {
     "data": {
      "text/html": [
       "\n",
       "                    <br/>Synced <strong style=\"color:#cdcd00\">earnest-sweep-5</strong>: <a href=\"https://wandb.ai/shubham_kashyapi/Train-NN-13/runs/29rk2nhb\" target=\"_blank\">https://wandb.ai/shubham_kashyapi/Train-NN-13/runs/29rk2nhb</a><br/>\n",
       "                "
      ],
      "text/plain": [
       "<IPython.core.display.HTML object>"
      ]
     },
     "metadata": {},
     "output_type": "display_data"
    },
    {
     "data": {
      "text/html": [
       "...Successfully finished last run (ID:29rk2nhb). Initializing new run:<br/><br/>"
      ],
      "text/plain": [
       "<IPython.core.display.HTML object>"
      ]
     },
     "metadata": {},
     "output_type": "display_data"
    },
    {
     "data": {
      "text/html": [
       "\n",
       "                Tracking run with wandb version 0.10.22<br/>\n",
       "                Syncing run <strong style=\"color:#cdcd00\">earnest-sweep-5</strong> to <a href=\"https://wandb.ai\" target=\"_blank\">Weights & Biases</a> <a href=\"https://docs.wandb.com/integrations/jupyter.html\" target=\"_blank\">(Documentation)</a>.<br/>\n",
       "                Project page: <a href=\"https://wandb.ai/shubham_kashyapi/Train-NN-13\" target=\"_blank\">https://wandb.ai/shubham_kashyapi/Train-NN-13</a><br/>\n",
       "                Sweep page: <a href=\"https://wandb.ai/shubham_kashyapi/Train-NN-13/sweeps/lt452qcu\" target=\"_blank\">https://wandb.ai/shubham_kashyapi/Train-NN-13/sweeps/lt452qcu</a><br/>\n",
       "Run page: <a href=\"https://wandb.ai/shubham_kashyapi/Train-NN-13/runs/29rk2nhb\" target=\"_blank\">https://wandb.ai/shubham_kashyapi/Train-NN-13/runs/29rk2nhb</a><br/>\n",
       "                Run data is saved locally in <code>C:\\Users\\Admin\\OneDrive\\Desktop\\DL Assignment 1\\CS6910-Deep-Learning-Assignment-1-main\\wandb\\run-20210314_201007-29rk2nhb</code><br/><br/>\n",
       "            "
      ],
      "text/plain": [
       "<IPython.core.display.HTML object>"
      ]
     },
     "metadata": {},
     "output_type": "display_data"
    },
    {
     "name": "stdout",
     "output_type": "stream",
     "text": [
      "(784, 60000)\n"
     ]
    },
    {
     "name": "stderr",
     "output_type": "stream",
     "text": [
      "wandb: ERROR Run 29rk2nhb errored: AttributeError(\"'Dense' object has no attribute 'W'\")\n",
      "wandb: Agent Starting Run: c8lc4www with config:\n",
      "wandb: \tbatch_size: 60000\n",
      "wandb: \tnum_epochs: 5\n",
      "wandb: \toptimizer: Adam\n",
      "wandb: \tsize_hidden_layer: 128\n",
      "wandb: \tweight_init: XavierUniform\n"
     ]
    },
    {
     "data": {
      "text/html": [
       "\n",
       "                Tracking run with wandb version 0.10.22<br/>\n",
       "                Syncing run <strong style=\"color:#cdcd00\">morning-sweep-6</strong> to <a href=\"https://wandb.ai\" target=\"_blank\">Weights & Biases</a> <a href=\"https://docs.wandb.com/integrations/jupyter.html\" target=\"_blank\">(Documentation)</a>.<br/>\n",
       "                Project page: <a href=\"https://wandb.ai/shubham_kashyapi/Train-NN-13\" target=\"_blank\">https://wandb.ai/shubham_kashyapi/Train-NN-13</a><br/>\n",
       "                Sweep page: <a href=\"https://wandb.ai/shubham_kashyapi/Train-NN-13/sweeps/lt452qcu\" target=\"_blank\">https://wandb.ai/shubham_kashyapi/Train-NN-13/sweeps/lt452qcu</a><br/>\n",
       "Run page: <a href=\"https://wandb.ai/shubham_kashyapi/Train-NN-13/runs/c8lc4www\" target=\"_blank\">https://wandb.ai/shubham_kashyapi/Train-NN-13/runs/c8lc4www</a><br/>\n",
       "                Run data is saved locally in <code>C:\\Users\\Admin\\OneDrive\\Desktop\\DL Assignment 1\\CS6910-Deep-Learning-Assignment-1-main\\wandb\\run-20210314_201018-c8lc4www</code><br/><br/>\n",
       "            "
      ],
      "text/plain": [
       "<IPython.core.display.HTML object>"
      ]
     },
     "metadata": {},
     "output_type": "display_data"
    },
    {
     "data": {
      "text/html": [
       "Finishing last run (ID:c8lc4www) before initializing another..."
      ],
      "text/plain": [
       "<IPython.core.display.HTML object>"
      ]
     },
     "metadata": {},
     "output_type": "display_data"
    },
    {
     "data": {
      "text/html": [
       "<br/>Waiting for W&B process to finish, PID 2816<br/>Program ended successfully."
      ],
      "text/plain": [
       "<IPython.core.display.HTML object>"
      ]
     },
     "metadata": {},
     "output_type": "display_data"
    },
    {
     "data": {
      "application/vnd.jupyter.widget-view+json": {
       "model_id": "",
       "version_major": 2,
       "version_minor": 0
      },
      "text/plain": [
       "VBox(children=(Label(value=' 0.00MB of 0.00MB uploaded (0.00MB deduped)\\r'), FloatProgress(value=1.0, max=1.0)…"
      ]
     },
     "metadata": {},
     "output_type": "display_data"
    },
    {
     "data": {
      "text/html": [
       "Find user logs for this run at: <code>C:\\Users\\Admin\\OneDrive\\Desktop\\DL Assignment 1\\CS6910-Deep-Learning-Assignment-1-main\\wandb\\run-20210314_201018-c8lc4www\\logs\\debug.log</code>"
      ],
      "text/plain": [
       "<IPython.core.display.HTML object>"
      ]
     },
     "metadata": {},
     "output_type": "display_data"
    },
    {
     "data": {
      "text/html": [
       "Find internal logs for this run at: <code>C:\\Users\\Admin\\OneDrive\\Desktop\\DL Assignment 1\\CS6910-Deep-Learning-Assignment-1-main\\wandb\\run-20210314_201018-c8lc4www\\logs\\debug-internal.log</code>"
      ],
      "text/plain": [
       "<IPython.core.display.HTML object>"
      ]
     },
     "metadata": {},
     "output_type": "display_data"
    },
    {
     "data": {
      "text/html": [
       "Synced 4 W&B file(s), 0 media file(s), 0 artifact file(s) and 0 other file(s)"
      ],
      "text/plain": [
       "<IPython.core.display.HTML object>"
      ]
     },
     "metadata": {},
     "output_type": "display_data"
    },
    {
     "data": {
      "text/html": [
       "\n",
       "                    <br/>Synced <strong style=\"color:#cdcd00\">morning-sweep-6</strong>: <a href=\"https://wandb.ai/shubham_kashyapi/Train-NN-13/runs/c8lc4www\" target=\"_blank\">https://wandb.ai/shubham_kashyapi/Train-NN-13/runs/c8lc4www</a><br/>\n",
       "                "
      ],
      "text/plain": [
       "<IPython.core.display.HTML object>"
      ]
     },
     "metadata": {},
     "output_type": "display_data"
    },
    {
     "data": {
      "text/html": [
       "...Successfully finished last run (ID:c8lc4www). Initializing new run:<br/><br/>"
      ],
      "text/plain": [
       "<IPython.core.display.HTML object>"
      ]
     },
     "metadata": {},
     "output_type": "display_data"
    },
    {
     "data": {
      "text/html": [
       "\n",
       "                Tracking run with wandb version 0.10.22<br/>\n",
       "                Syncing run <strong style=\"color:#cdcd00\">morning-sweep-6</strong> to <a href=\"https://wandb.ai\" target=\"_blank\">Weights & Biases</a> <a href=\"https://docs.wandb.com/integrations/jupyter.html\" target=\"_blank\">(Documentation)</a>.<br/>\n",
       "                Project page: <a href=\"https://wandb.ai/shubham_kashyapi/Train-NN-13\" target=\"_blank\">https://wandb.ai/shubham_kashyapi/Train-NN-13</a><br/>\n",
       "                Sweep page: <a href=\"https://wandb.ai/shubham_kashyapi/Train-NN-13/sweeps/lt452qcu\" target=\"_blank\">https://wandb.ai/shubham_kashyapi/Train-NN-13/sweeps/lt452qcu</a><br/>\n",
       "Run page: <a href=\"https://wandb.ai/shubham_kashyapi/Train-NN-13/runs/c8lc4www\" target=\"_blank\">https://wandb.ai/shubham_kashyapi/Train-NN-13/runs/c8lc4www</a><br/>\n",
       "                Run data is saved locally in <code>C:\\Users\\Admin\\OneDrive\\Desktop\\DL Assignment 1\\CS6910-Deep-Learning-Assignment-1-main\\wandb\\run-20210314_201023-c8lc4www</code><br/><br/>\n",
       "            "
      ],
      "text/plain": [
       "<IPython.core.display.HTML object>"
      ]
     },
     "metadata": {},
     "output_type": "display_data"
    },
    {
     "name": "stdout",
     "output_type": "stream",
     "text": [
      "(784, 60000)\n"
     ]
    },
    {
     "name": "stderr",
     "output_type": "stream",
     "text": [
      "100%|██████████| 5/5 [00:04<00:00,  1.02it/s]\n",
      "wandb: Sweep Agent: Waiting for job.\n",
      "wandb: Sweep Agent: Exiting.\n"
     ]
    }
   ],
   "source": [
    "wandb.agent(sweep_id, function = train_nn)"
   ]
  },
  {
   "cell_type": "markdown",
   "metadata": {},
   "source": [
    "# Loss on Validation Data"
   ]
  },
  {
   "cell_type": "code",
   "execution_count": 2,
   "metadata": {},
   "outputs": [
    {
     "name": "stdout",
     "output_type": "stream",
     "text": [
      "(60000, 784) (10000, 784) (60000, 10) (10000, 10)\n"
     ]
    }
   ],
   "source": [
    "# Preparing small dataset to test the code\n",
    "[(X_train, y_train), (X_test, y_test)] = fashion_mnist.load_data()\n",
    "X_train = X_train.reshape(X_train.shape[0], X_train.shape[1]*X_train.shape[2])\n",
    "X_test = X_test.reshape(X_test.shape[0], X_test.shape[1]*X_test.shape[2])\n",
    "Xtrain_scaled = StandardScaler().fit_transform(X_train)\n",
    "Xtest_scaled = StandardScaler().fit_transform(X_test)\n",
    "\n",
    "t_train = OneHotEncoder().fit_transform(y_train.reshape(-1,1))\n",
    "t_test = OneHotEncoder().fit_transform(y_test.reshape(-1,1))\n",
    "print(Xtrain_scaled.shape, Xtest_scaled.shape, t_train.shape, t_test.shape)"
   ]
  },
  {
   "cell_type": "code",
   "execution_count": 3,
   "metadata": {},
   "outputs": [
    {
     "name": "stdout",
     "output_type": "stream",
     "text": [
      "(784, 54000) (10, 54000) (784, 6000) (10, 6000)\n"
     ]
    }
   ],
   "source": [
    "# Splitting into train and validation sets\n",
    "X_model, X_val, t_model, t_val = train_test_split(Xtrain_scaled, t_train, test_size=0.1, random_state=50)\n",
    "X_model, X_val = X_model.T, X_val.T\n",
    "t_model, t_val = t_model.T, t_val.T\n",
    "print(X_model.shape, t_model.shape, X_val.shape, t_val.shape)"
   ]
  },
  {
   "cell_type": "code",
   "execution_count": 13,
   "metadata": {},
   "outputs": [
    {
     "name": "stdout",
     "output_type": "stream",
     "text": [
      "{'name': 'random-test-sweep', 'method': 'grid', 'metric': {'name': 'loss', 'goal': 'minimize'}, 'parameters': {'num_epochs': {'values': [5]}, 'size_hidden_layer': {'values': [32, 64, 128]}, 'optimizer': {'values': ['Adam']}, 'batch_size': {'values': [54000]}, 'weight_init': {'values': ['XavierUniform']}}}\n"
     ]
    }
   ],
   "source": [
    "sweep_config = {'name': 'random-test-sweep', 'method': 'grid'}\n",
    "sweep_config['metric'] = {'name': 'loss', 'goal': 'minimize'}\n",
    "parameters_dict = {\n",
    "                   'num_epochs': {'values': [5]}, \\\n",
    "                   #'num_hidden_layers': {'values': [3, 4, 5]}, \\\n",
    "                   'size_hidden_layer': {'values': [32, 64, 128]}, \\\n",
    "                   #'learning_rate': {'values': [1e-3, 1e-4]}, \\\n",
    "                   'optimizer': {'values': [\"Adam\"]}, \\\n",
    "                   'batch_size': {'values': [54000]}, \\\n",
    "                   'weight_init': {'values': ['XavierUniform']} \n",
    "                   #'activation': {'values': {'sigmoid', 'tanh', 'relu'}}, \\\n",
    "                  }\n",
    "sweep_config['parameters'] = parameters_dict\n",
    "print(sweep_config)"
   ]
  },
  {
   "cell_type": "code",
   "execution_count": 14,
   "metadata": {},
   "outputs": [],
   "source": [
    "def train_val_nn(config = sweep_config):\n",
    "    with wandb.init(config = config):\n",
    "        config = wandb.init().config\n",
    "        wandb.run.name = 'epochs_{}layersize_{}opt_{}batch_{}init_{}'.format(config.num_epochs, config.size_hidden_layer, \\\n",
    "                          config.optimizer, config.batch_size, config.weight_init)\n",
    "        layers = [Input(data = X_model), Dense(size = config.size_hidden_layer, activation = \"Sigmoid\", name = \"HL1\"), \\\n",
    "                  Dense(size = 10, activation = \"Sigmoid\", name = \"OL\")]\n",
    "        nn_model = NeuralNetwork(layers = layers, batch_size = config.batch_size, optimizer = config.optimizer, \\\n",
    "                              intialization = config.weight_init, epochs = config.num_epochs, t = t_model)\n",
    "        nn_model.forward_propogation()\n",
    "        nn_model.backward_propogation()\n",
    "        \n",
    "        for step_loss in nn_model.loss_hist:\n",
    "            wandb.log({'loss': step_loss})"
   ]
  },
  {
   "cell_type": "code",
   "execution_count": 15,
   "metadata": {},
   "outputs": [
    {
     "name": "stdout",
     "output_type": "stream",
     "text": [
      "Create sweep with ID: kl1mg7vo\n",
      "Sweep URL: https://wandb.ai/shubham_kashyapi/Train-NN-3/sweeps/kl1mg7vo\n"
     ]
    }
   ],
   "source": [
    "sweep_id = wandb.sweep(sweep_config, project = 'Train-NN-3')"
   ]
  },
  {
   "cell_type": "code",
   "execution_count": 16,
   "metadata": {},
   "outputs": [
    {
     "name": "stderr",
     "output_type": "stream",
     "text": [
      "wandb: Agent Starting Run: tm0cz4me with config:\n",
      "wandb: \tbatch_size: 54000\n",
      "wandb: \tnum_epochs: 5\n",
      "wandb: \toptimizer: Adam\n",
      "wandb: \tsize_hidden_layer: 32\n",
      "wandb: \tweight_init: XavierUniform\n"
     ]
    },
    {
     "data": {
      "text/html": [
       "\n",
       "                Tracking run with wandb version 0.10.22<br/>\n",
       "                Syncing run <strong style=\"color:#cdcd00\">desert-sweep-1</strong> to <a href=\"https://wandb.ai\" target=\"_blank\">Weights & Biases</a> <a href=\"https://docs.wandb.com/integrations/jupyter.html\" target=\"_blank\">(Documentation)</a>.<br/>\n",
       "                Project page: <a href=\"https://wandb.ai/shubham_kashyapi/Train-NN-3\" target=\"_blank\">https://wandb.ai/shubham_kashyapi/Train-NN-3</a><br/>\n",
       "                Sweep page: <a href=\"https://wandb.ai/shubham_kashyapi/Train-NN-3/sweeps/kl1mg7vo\" target=\"_blank\">https://wandb.ai/shubham_kashyapi/Train-NN-3/sweeps/kl1mg7vo</a><br/>\n",
       "Run page: <a href=\"https://wandb.ai/shubham_kashyapi/Train-NN-3/runs/tm0cz4me\" target=\"_blank\">https://wandb.ai/shubham_kashyapi/Train-NN-3/runs/tm0cz4me</a><br/>\n",
       "                Run data is saved locally in <code>C:\\Users\\Admin\\OneDrive\\Desktop\\DL Assignment 1\\CS6910-Deep-Learning-Assignment-1-main\\wandb\\run-20210314_193837-tm0cz4me</code><br/><br/>\n",
       "            "
      ],
      "text/plain": [
       "<IPython.core.display.HTML object>"
      ]
     },
     "metadata": {},
     "output_type": "display_data"
    },
    {
     "data": {
      "text/html": [
       "Finishing last run (ID:tm0cz4me) before initializing another..."
      ],
      "text/plain": [
       "<IPython.core.display.HTML object>"
      ]
     },
     "metadata": {},
     "output_type": "display_data"
    },
    {
     "data": {
      "text/html": [
       "<br/>Waiting for W&B process to finish, PID 14328<br/>Program ended successfully."
      ],
      "text/plain": [
       "<IPython.core.display.HTML object>"
      ]
     },
     "metadata": {},
     "output_type": "display_data"
    },
    {
     "data": {
      "application/vnd.jupyter.widget-view+json": {
       "model_id": "",
       "version_major": 2,
       "version_minor": 0
      },
      "text/plain": [
       "VBox(children=(Label(value=' 0.00MB of 0.00MB uploaded (0.00MB deduped)\\r'), FloatProgress(value=1.0, max=1.0)…"
      ]
     },
     "metadata": {},
     "output_type": "display_data"
    },
    {
     "data": {
      "text/html": [
       "Find user logs for this run at: <code>C:\\Users\\Admin\\OneDrive\\Desktop\\DL Assignment 1\\CS6910-Deep-Learning-Assignment-1-main\\wandb\\run-20210314_193837-tm0cz4me\\logs\\debug.log</code>"
      ],
      "text/plain": [
       "<IPython.core.display.HTML object>"
      ]
     },
     "metadata": {},
     "output_type": "display_data"
    },
    {
     "data": {
      "text/html": [
       "Find internal logs for this run at: <code>C:\\Users\\Admin\\OneDrive\\Desktop\\DL Assignment 1\\CS6910-Deep-Learning-Assignment-1-main\\wandb\\run-20210314_193837-tm0cz4me\\logs\\debug-internal.log</code>"
      ],
      "text/plain": [
       "<IPython.core.display.HTML object>"
      ]
     },
     "metadata": {},
     "output_type": "display_data"
    },
    {
     "data": {
      "text/html": [
       "Synced 4 W&B file(s), 0 media file(s), 0 artifact file(s) and 0 other file(s)"
      ],
      "text/plain": [
       "<IPython.core.display.HTML object>"
      ]
     },
     "metadata": {},
     "output_type": "display_data"
    },
    {
     "data": {
      "text/html": [
       "\n",
       "                    <br/>Synced <strong style=\"color:#cdcd00\">desert-sweep-1</strong>: <a href=\"https://wandb.ai/shubham_kashyapi/Train-NN-3/runs/tm0cz4me\" target=\"_blank\">https://wandb.ai/shubham_kashyapi/Train-NN-3/runs/tm0cz4me</a><br/>\n",
       "                "
      ],
      "text/plain": [
       "<IPython.core.display.HTML object>"
      ]
     },
     "metadata": {},
     "output_type": "display_data"
    },
    {
     "data": {
      "text/html": [
       "...Successfully finished last run (ID:tm0cz4me). Initializing new run:<br/><br/>"
      ],
      "text/plain": [
       "<IPython.core.display.HTML object>"
      ]
     },
     "metadata": {},
     "output_type": "display_data"
    },
    {
     "data": {
      "text/html": [
       "\n",
       "                Tracking run with wandb version 0.10.22<br/>\n",
       "                Syncing run <strong style=\"color:#cdcd00\">desert-sweep-1</strong> to <a href=\"https://wandb.ai\" target=\"_blank\">Weights & Biases</a> <a href=\"https://docs.wandb.com/integrations/jupyter.html\" target=\"_blank\">(Documentation)</a>.<br/>\n",
       "                Project page: <a href=\"https://wandb.ai/shubham_kashyapi/Train-NN-3\" target=\"_blank\">https://wandb.ai/shubham_kashyapi/Train-NN-3</a><br/>\n",
       "                Sweep page: <a href=\"https://wandb.ai/shubham_kashyapi/Train-NN-3/sweeps/kl1mg7vo\" target=\"_blank\">https://wandb.ai/shubham_kashyapi/Train-NN-3/sweeps/kl1mg7vo</a><br/>\n",
       "Run page: <a href=\"https://wandb.ai/shubham_kashyapi/Train-NN-3/runs/tm0cz4me\" target=\"_blank\">https://wandb.ai/shubham_kashyapi/Train-NN-3/runs/tm0cz4me</a><br/>\n",
       "                Run data is saved locally in <code>C:\\Users\\Admin\\OneDrive\\Desktop\\DL Assignment 1\\CS6910-Deep-Learning-Assignment-1-main\\wandb\\run-20210314_193842-tm0cz4me</code><br/><br/>\n",
       "            "
      ],
      "text/plain": [
       "<IPython.core.display.HTML object>"
      ]
     },
     "metadata": {},
     "output_type": "display_data"
    },
    {
     "name": "stdout",
     "output_type": "stream",
     "text": [
      "(784, 54000)\n"
     ]
    },
    {
     "name": "stderr",
     "output_type": "stream",
     "text": [
      "  0%|          | 0/5 [00:00<?, ?it/s]\n",
      "wandb: ERROR Run tm0cz4me errored: ValueError('dimension mismatch')\n",
      "wandb: Sweep Agent: Waiting for job.\n",
      "wandb: Job received.\n",
      "wandb: Agent Starting Run: ykzpl3mu with config:\n",
      "wandb: \tbatch_size: 54000\n",
      "wandb: \tnum_epochs: 5\n",
      "wandb: \toptimizer: Adam\n",
      "wandb: \tsize_hidden_layer: 64\n",
      "wandb: \tweight_init: XavierUniform\n"
     ]
    },
    {
     "data": {
      "text/html": [
       "\n",
       "                Tracking run with wandb version 0.10.22<br/>\n",
       "                Syncing run <strong style=\"color:#cdcd00\">hardy-sweep-2</strong> to <a href=\"https://wandb.ai\" target=\"_blank\">Weights & Biases</a> <a href=\"https://docs.wandb.com/integrations/jupyter.html\" target=\"_blank\">(Documentation)</a>.<br/>\n",
       "                Project page: <a href=\"https://wandb.ai/shubham_kashyapi/Train-NN-3\" target=\"_blank\">https://wandb.ai/shubham_kashyapi/Train-NN-3</a><br/>\n",
       "                Sweep page: <a href=\"https://wandb.ai/shubham_kashyapi/Train-NN-3/sweeps/kl1mg7vo\" target=\"_blank\">https://wandb.ai/shubham_kashyapi/Train-NN-3/sweeps/kl1mg7vo</a><br/>\n",
       "Run page: <a href=\"https://wandb.ai/shubham_kashyapi/Train-NN-3/runs/ykzpl3mu\" target=\"_blank\">https://wandb.ai/shubham_kashyapi/Train-NN-3/runs/ykzpl3mu</a><br/>\n",
       "                Run data is saved locally in <code>C:\\Users\\Admin\\OneDrive\\Desktop\\DL Assignment 1\\CS6910-Deep-Learning-Assignment-1-main\\wandb\\run-20210314_193932-ykzpl3mu</code><br/><br/>\n",
       "            "
      ],
      "text/plain": [
       "<IPython.core.display.HTML object>"
      ]
     },
     "metadata": {},
     "output_type": "display_data"
    },
    {
     "data": {
      "text/html": [
       "Finishing last run (ID:ykzpl3mu) before initializing another..."
      ],
      "text/plain": [
       "<IPython.core.display.HTML object>"
      ]
     },
     "metadata": {},
     "output_type": "display_data"
    },
    {
     "data": {
      "text/html": [
       "<br/>Waiting for W&B process to finish, PID 7784<br/>Program ended successfully."
      ],
      "text/plain": [
       "<IPython.core.display.HTML object>"
      ]
     },
     "metadata": {},
     "output_type": "display_data"
    },
    {
     "data": {
      "application/vnd.jupyter.widget-view+json": {
       "model_id": "",
       "version_major": 2,
       "version_minor": 0
      },
      "text/plain": [
       "VBox(children=(Label(value=' 0.00MB of 0.00MB uploaded (0.00MB deduped)\\r'), FloatProgress(value=1.0, max=1.0)…"
      ]
     },
     "metadata": {},
     "output_type": "display_data"
    },
    {
     "data": {
      "text/html": [
       "Find user logs for this run at: <code>C:\\Users\\Admin\\OneDrive\\Desktop\\DL Assignment 1\\CS6910-Deep-Learning-Assignment-1-main\\wandb\\run-20210314_193932-ykzpl3mu\\logs\\debug.log</code>"
      ],
      "text/plain": [
       "<IPython.core.display.HTML object>"
      ]
     },
     "metadata": {},
     "output_type": "display_data"
    },
    {
     "data": {
      "text/html": [
       "Find internal logs for this run at: <code>C:\\Users\\Admin\\OneDrive\\Desktop\\DL Assignment 1\\CS6910-Deep-Learning-Assignment-1-main\\wandb\\run-20210314_193932-ykzpl3mu\\logs\\debug-internal.log</code>"
      ],
      "text/plain": [
       "<IPython.core.display.HTML object>"
      ]
     },
     "metadata": {},
     "output_type": "display_data"
    },
    {
     "data": {
      "text/html": [
       "Synced 4 W&B file(s), 0 media file(s), 0 artifact file(s) and 0 other file(s)"
      ],
      "text/plain": [
       "<IPython.core.display.HTML object>"
      ]
     },
     "metadata": {},
     "output_type": "display_data"
    },
    {
     "data": {
      "text/html": [
       "\n",
       "                    <br/>Synced <strong style=\"color:#cdcd00\">hardy-sweep-2</strong>: <a href=\"https://wandb.ai/shubham_kashyapi/Train-NN-3/runs/ykzpl3mu\" target=\"_blank\">https://wandb.ai/shubham_kashyapi/Train-NN-3/runs/ykzpl3mu</a><br/>\n",
       "                "
      ],
      "text/plain": [
       "<IPython.core.display.HTML object>"
      ]
     },
     "metadata": {},
     "output_type": "display_data"
    },
    {
     "data": {
      "text/html": [
       "...Successfully finished last run (ID:ykzpl3mu). Initializing new run:<br/><br/>"
      ],
      "text/plain": [
       "<IPython.core.display.HTML object>"
      ]
     },
     "metadata": {},
     "output_type": "display_data"
    },
    {
     "data": {
      "text/html": [
       "\n",
       "                Tracking run with wandb version 0.10.22<br/>\n",
       "                Syncing run <strong style=\"color:#cdcd00\">hardy-sweep-2</strong> to <a href=\"https://wandb.ai\" target=\"_blank\">Weights & Biases</a> <a href=\"https://docs.wandb.com/integrations/jupyter.html\" target=\"_blank\">(Documentation)</a>.<br/>\n",
       "                Project page: <a href=\"https://wandb.ai/shubham_kashyapi/Train-NN-3\" target=\"_blank\">https://wandb.ai/shubham_kashyapi/Train-NN-3</a><br/>\n",
       "                Sweep page: <a href=\"https://wandb.ai/shubham_kashyapi/Train-NN-3/sweeps/kl1mg7vo\" target=\"_blank\">https://wandb.ai/shubham_kashyapi/Train-NN-3/sweeps/kl1mg7vo</a><br/>\n",
       "Run page: <a href=\"https://wandb.ai/shubham_kashyapi/Train-NN-3/runs/ykzpl3mu\" target=\"_blank\">https://wandb.ai/shubham_kashyapi/Train-NN-3/runs/ykzpl3mu</a><br/>\n",
       "                Run data is saved locally in <code>C:\\Users\\Admin\\OneDrive\\Desktop\\DL Assignment 1\\CS6910-Deep-Learning-Assignment-1-main\\wandb\\run-20210314_193938-ykzpl3mu</code><br/><br/>\n",
       "            "
      ],
      "text/plain": [
       "<IPython.core.display.HTML object>"
      ]
     },
     "metadata": {},
     "output_type": "display_data"
    },
    {
     "name": "stdout",
     "output_type": "stream",
     "text": [
      "(784, 54000)\n"
     ]
    },
    {
     "name": "stderr",
     "output_type": "stream",
     "text": [
      "  0%|          | 0/5 [00:00<?, ?it/s]\n",
      "wandb: ERROR Run ykzpl3mu errored: ValueError('dimension mismatch')\n",
      "wandb: Agent Starting Run: clfc8xpg with config:\n",
      "wandb: \tbatch_size: 54000\n",
      "wandb: \tnum_epochs: 5\n",
      "wandb: \toptimizer: Adam\n",
      "wandb: \tsize_hidden_layer: 128\n",
      "wandb: \tweight_init: XavierUniform\n"
     ]
    },
    {
     "data": {
      "text/html": [
       "\n",
       "                Tracking run with wandb version 0.10.22<br/>\n",
       "                Syncing run <strong style=\"color:#cdcd00\">glad-sweep-3</strong> to <a href=\"https://wandb.ai\" target=\"_blank\">Weights & Biases</a> <a href=\"https://docs.wandb.com/integrations/jupyter.html\" target=\"_blank\">(Documentation)</a>.<br/>\n",
       "                Project page: <a href=\"https://wandb.ai/shubham_kashyapi/Train-NN-3\" target=\"_blank\">https://wandb.ai/shubham_kashyapi/Train-NN-3</a><br/>\n",
       "                Sweep page: <a href=\"https://wandb.ai/shubham_kashyapi/Train-NN-3/sweeps/kl1mg7vo\" target=\"_blank\">https://wandb.ai/shubham_kashyapi/Train-NN-3/sweeps/kl1mg7vo</a><br/>\n",
       "Run page: <a href=\"https://wandb.ai/shubham_kashyapi/Train-NN-3/runs/clfc8xpg\" target=\"_blank\">https://wandb.ai/shubham_kashyapi/Train-NN-3/runs/clfc8xpg</a><br/>\n",
       "                Run data is saved locally in <code>C:\\Users\\Admin\\OneDrive\\Desktop\\DL Assignment 1\\CS6910-Deep-Learning-Assignment-1-main\\wandb\\run-20210314_193949-clfc8xpg</code><br/><br/>\n",
       "            "
      ],
      "text/plain": [
       "<IPython.core.display.HTML object>"
      ]
     },
     "metadata": {},
     "output_type": "display_data"
    },
    {
     "data": {
      "text/html": [
       "Finishing last run (ID:clfc8xpg) before initializing another..."
      ],
      "text/plain": [
       "<IPython.core.display.HTML object>"
      ]
     },
     "metadata": {},
     "output_type": "display_data"
    },
    {
     "data": {
      "text/html": [
       "<br/>Waiting for W&B process to finish, PID 6048<br/>Program ended successfully."
      ],
      "text/plain": [
       "<IPython.core.display.HTML object>"
      ]
     },
     "metadata": {},
     "output_type": "display_data"
    },
    {
     "data": {
      "application/vnd.jupyter.widget-view+json": {
       "model_id": "",
       "version_major": 2,
       "version_minor": 0
      },
      "text/plain": [
       "VBox(children=(Label(value=' 0.00MB of 0.00MB uploaded (0.00MB deduped)\\r'), FloatProgress(value=1.0, max=1.0)…"
      ]
     },
     "metadata": {},
     "output_type": "display_data"
    },
    {
     "data": {
      "text/html": [
       "Find user logs for this run at: <code>C:\\Users\\Admin\\OneDrive\\Desktop\\DL Assignment 1\\CS6910-Deep-Learning-Assignment-1-main\\wandb\\run-20210314_193949-clfc8xpg\\logs\\debug.log</code>"
      ],
      "text/plain": [
       "<IPython.core.display.HTML object>"
      ]
     },
     "metadata": {},
     "output_type": "display_data"
    },
    {
     "data": {
      "text/html": [
       "Find internal logs for this run at: <code>C:\\Users\\Admin\\OneDrive\\Desktop\\DL Assignment 1\\CS6910-Deep-Learning-Assignment-1-main\\wandb\\run-20210314_193949-clfc8xpg\\logs\\debug-internal.log</code>"
      ],
      "text/plain": [
       "<IPython.core.display.HTML object>"
      ]
     },
     "metadata": {},
     "output_type": "display_data"
    },
    {
     "data": {
      "text/html": [
       "Synced 4 W&B file(s), 0 media file(s), 0 artifact file(s) and 0 other file(s)"
      ],
      "text/plain": [
       "<IPython.core.display.HTML object>"
      ]
     },
     "metadata": {},
     "output_type": "display_data"
    },
    {
     "data": {
      "text/html": [
       "\n",
       "                    <br/>Synced <strong style=\"color:#cdcd00\">glad-sweep-3</strong>: <a href=\"https://wandb.ai/shubham_kashyapi/Train-NN-3/runs/clfc8xpg\" target=\"_blank\">https://wandb.ai/shubham_kashyapi/Train-NN-3/runs/clfc8xpg</a><br/>\n",
       "                "
      ],
      "text/plain": [
       "<IPython.core.display.HTML object>"
      ]
     },
     "metadata": {},
     "output_type": "display_data"
    },
    {
     "data": {
      "text/html": [
       "...Successfully finished last run (ID:clfc8xpg). Initializing new run:<br/><br/>"
      ],
      "text/plain": [
       "<IPython.core.display.HTML object>"
      ]
     },
     "metadata": {},
     "output_type": "display_data"
    },
    {
     "data": {
      "text/html": [
       "\n",
       "                Tracking run with wandb version 0.10.22<br/>\n",
       "                Syncing run <strong style=\"color:#cdcd00\">glad-sweep-3</strong> to <a href=\"https://wandb.ai\" target=\"_blank\">Weights & Biases</a> <a href=\"https://docs.wandb.com/integrations/jupyter.html\" target=\"_blank\">(Documentation)</a>.<br/>\n",
       "                Project page: <a href=\"https://wandb.ai/shubham_kashyapi/Train-NN-3\" target=\"_blank\">https://wandb.ai/shubham_kashyapi/Train-NN-3</a><br/>\n",
       "                Sweep page: <a href=\"https://wandb.ai/shubham_kashyapi/Train-NN-3/sweeps/kl1mg7vo\" target=\"_blank\">https://wandb.ai/shubham_kashyapi/Train-NN-3/sweeps/kl1mg7vo</a><br/>\n",
       "Run page: <a href=\"https://wandb.ai/shubham_kashyapi/Train-NN-3/runs/clfc8xpg\" target=\"_blank\">https://wandb.ai/shubham_kashyapi/Train-NN-3/runs/clfc8xpg</a><br/>\n",
       "                Run data is saved locally in <code>C:\\Users\\Admin\\OneDrive\\Desktop\\DL Assignment 1\\CS6910-Deep-Learning-Assignment-1-main\\wandb\\run-20210314_193954-clfc8xpg</code><br/><br/>\n",
       "            "
      ],
      "text/plain": [
       "<IPython.core.display.HTML object>"
      ]
     },
     "metadata": {},
     "output_type": "display_data"
    },
    {
     "name": "stdout",
     "output_type": "stream",
     "text": [
      "(784, 54000)\n"
     ]
    },
    {
     "name": "stderr",
     "output_type": "stream",
     "text": [
      "  0%|          | 0/5 [00:00<?, ?it/s]\n",
      "wandb: ERROR Run clfc8xpg errored: ValueError('dimension mismatch')\n",
      "wandb: Sweep Agent: Waiting for job.\n",
      "wandb: Sweep Agent: Exiting.\n"
     ]
    }
   ],
   "source": [
    "wandb.agent(sweep_id, function = train_val_nn)"
   ]
  },
  {
   "cell_type": "code",
   "execution_count": null,
   "metadata": {},
   "outputs": [],
   "source": []
  }
 ],
 "metadata": {
  "kernelspec": {
   "display_name": "Python 3",
   "language": "python",
   "name": "python3"
  },
  "language_info": {
   "codemirror_mode": {
    "name": "ipython",
    "version": 3
   },
   "file_extension": ".py",
   "mimetype": "text/x-python",
   "name": "python",
   "nbconvert_exporter": "python",
   "pygments_lexer": "ipython3",
   "version": "3.8.3"
  }
 },
 "nbformat": 4,
 "nbformat_minor": 4
}
