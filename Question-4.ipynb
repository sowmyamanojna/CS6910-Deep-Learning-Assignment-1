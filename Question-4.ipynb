{
 "cells": [
  {
   "cell_type": "code",
   "execution_count": null,
   "metadata": {},
   "outputs": [],
   "source": [
    "print(\"Importing packages... \", end=\"\")\n",
    "import wandb\n",
    "import numpy as np\n",
    "import os\n",
    "from activations import Sigmoid, Tanh, Relu, Softmax\n",
    "from layers import Input, Dense\n",
    "from optimizers import Normal, Momentum, Nesterov, AdaGrad, RMSProp, Adam, Nadam\n",
    "from network import NeuralNetwork\n",
    "from loss import CrossEntropy, SquaredError\n",
    "from helper import OneHotEncoder, MinMaxScaler\n",
    "\n",
    "from sklearn.model_selection import train_test_split\n",
    "\n",
    "from keras.datasets import fashion_mnist\n",
    "import matplotlib.pyplot as plt\n",
    "print(\"Done!\")"
   ]
  },
  {
   "cell_type": "code",
   "execution_count": null,
   "metadata": {},
   "outputs": [],
   "source": [
    "print(\"Loading data ... \", end=\"\")\n",
    "[(x_train, y_train), (x_test, y_test)] = fashion_mnist.load_data()\n",
    "x_train, x_val, y_train, y_val = train_test_split(x_train, y_train, test_size=0.2, random_state=42)\n",
    "print(\"Done!\")\n",
    "\n",
    "print(\"Size of Training data:\", x_train.shape)\n",
    "print(\"Size of Validation data:\", x_val.shape)\n",
    "\n",
    "print(\"Performing Scaling and Encoding transformations on the data ... \", end=\"\")\n",
    "scaler = MinMaxScaler()\n",
    "scaler.fit(x_train)\n",
    "X_scaled = x_train/255\n",
    "X_val_scaled = x_val/255\n",
    "X_test_scaled = x_test/255\n",
    "\n",
    "X_scaled = X_scaled.reshape(X_scaled.shape[0], X_scaled.shape[1]*X_scaled.shape[2]).T\n",
    "X_val_scaled = X_val_scaled.reshape(X_val_scaled.shape[0], X_val_scaled.shape[1]*X_val_scaled.shape[2]).T\n",
    "X_test_scaled = X_test_scaled.reshape(X_test_scaled.shape[0], X_test_scaled.shape[1]*X_test_scaled.shape[2]).T\n",
    "\n",
    "encoder = OneHotEncoder()\n",
    "t = encoder.fit_transform(y_train, 10)\n",
    "t_val = encoder.fit_transform(y_val, 10)\n",
    "t_test = encoder.fit_transform(y_test, 10)\n",
    "print(\"Done!\")\n",
    "\n",
    "X_scaled = X_scaled[:, :21000]\n",
    "X_test_scaled = X_test_scaled[:, :9000]\n",
    "t = t[:, :21000]\n",
    "t_test = t_test[:, :9000]"
   ]
  },
  {
   "cell_type": "code",
   "execution_count": null,
   "metadata": {},
   "outputs": [],
   "source": [
    "sweep_config = {\"name\": \"random-test-sweep\", \"method\": \"grid\"}\n",
    "sweep_config[\"metric\"] = {\"name\": \"loss\", \"goal\": \"minimize\"}\n",
    "parameters_dict = {\n",
    "                \"num_epochs\": {\"values\": [10, 50]}, \\\n",
    "                # \"num_hidden_layers\": {\"values\": [3, 4, 5]}, \\\n",
    "                \"size_hidden_layer\": {\"values\": [32, 64, 128]}, \\\n",
    "                # \"learning_rate\": {\"values\": [1e-3, 1e-4]}, \\\n",
    "                \"optimizer\": {\"values\": [\"Normal\",\"Momentum\",\"AdaGrad\",\"RMSProp\",\"Adam\",\"Nadam\"]}, \\\n",
    "                \"batch_size\": {\"values\": [128, 1024, 60000]}, \\\n",
    "                \"weight_init\": {\"values\": [\"RandomNormal\", \"XavierUniform\"]} , \\\n",
    "                \"activation\": {\"values\": [\"Sigmoid\", \"Tanh\", \"Relu\"]}, \\\n",
    "                \"loss\": {\"values\": [\"CrossEntropy\", \"SquaredError\"]}, \\\n",
    "                  }\n",
    "sweep_config[\"parameters\"] = parameters_dict\n",
    "# for i in sweep_config:\n",
    "#     print(i, sweep_config[i])"
   ]
  },
  {
   "cell_type": "code",
   "execution_count": null,
   "metadata": {},
   "outputs": [],
   "source": [
    "def train_nn(config = sweep_config):\n",
    "    with wandb.init(config = config):\n",
    "        config = wandb.init().config\n",
    "        wandb.run.name = \"e_{}_hl_{}_opt_{}_bs_{}_init_{}_ac_{}_loss_{}\".format(config.num_epochs,\\\n",
    "                                                                      config.size_hidden_layer,\\\n",
    "                                                                      config.optimizer,\\\n",
    "                                                                      config.batch_size,\\\n",
    "                                                                      config.weight_init,\\\n",
    "                                                                      config.activation,\\\n",
    "                                                                      config.loss)\n",
    "\n",
    "        layers = [Input(data=X_scaled),\\\n",
    "                  Dense(size=config.size_hidden_layer, activation=config.activation, name=\"HL1\"),\\\n",
    "                  Dense(size=10, activation=config.activation, name=\"OL\")]\n",
    "\n",
    "        nn_model = NeuralNetwork(layers=layers, batch_size=config.batch_size, \\\n",
    "                                 optimizer=config.optimizer, intialization=config.weight_init, \\\n",
    "                                 epochs=config.num_epochs, t=t, X_val=X_val_scaled, \\\n",
    "                                 t_val=t_val, loss=config.loss, use_wandb=True)#, \\\n",
    "                                #  optim_params={\"eta\":config.learning_rate})\n",
    "\n",
    "        nn_model.forward_propogation()\n",
    "        nn_model.backward_propogation()\n",
    "        acc_val, loss_val, _ = nn_model.check_test(X_val_scaled, t_val)\n",
    "        acc_test, loss_test, _ = nn_model.check_test(X_test_scaled, t_test)\n",
    "        \n",
    "        wandb.log({\"val_loss_end\": loss_val/t_val.shape[1], \\\n",
    "                   \"val_acc_end\": acc_val/t_val.shape[1], \\\n",
    "                   \"test_loss_end\": loss_test/t_test.shape[1], \\\n",
    "                   \"test_acc_end\": acc_test/t_test.shape[1], \\\n",
    "                   \"epoch\":config.num_epochs})"
   ]
  },
  {
   "cell_type": "code",
   "execution_count": null,
   "metadata": {},
   "outputs": [],
   "source": [
    "sweep_id = wandb.sweep(sweep_config, project = \"trail-1\")\n",
    "wandb.agent(sweep_id, function = train_nn)"
   ]
  },
  {
   "cell_type": "code",
   "execution_count": null,
   "metadata": {},
   "outputs": [],
   "source": []
  }
 ],
 "metadata": {
  "kernelspec": {
   "display_name": "Python 3",
   "language": "python",
   "name": "python3"
  },
  "language_info": {
   "codemirror_mode": {
    "name": "ipython",
    "version": 3
   },
   "file_extension": ".py",
   "mimetype": "text/x-python",
   "name": "python",
   "nbconvert_exporter": "python",
   "pygments_lexer": "ipython3",
   "version": "3.8.5-final"
  },
  "widgets": {
   "application/vnd.jupyter.widget-state+json": {
    "state": {},
    "version_major": 2,
    "version_minor": 0
   }
  }
 },
 "nbformat": 4,
 "nbformat_minor": 4
}